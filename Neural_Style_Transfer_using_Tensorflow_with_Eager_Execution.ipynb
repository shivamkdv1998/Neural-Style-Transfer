{
  "nbformat": 4,
  "nbformat_minor": 0,
  "metadata": {
    "colab": {
      "provenance": [],
      "private_outputs": true,
      "gpuType": "T4"
    },
    "kernelspec": {
      "name": "python3",
      "display_name": "Python 3"
    },
    "accelerator": "GPU"
  },
  "cells": [
    {
      "metadata": {
        "id": "jo5PziEC4hWs"
      },
      "cell_type": "markdown",
      "source": [
        "# Neural Style Transfer with tf.keras\n",
        "\n",
        "<table class=\"tfo-notebook-buttons\" align=\"left\">\n",
        "  <td>\n",
        "    <a target=\"_blank\" href=\"https://colab.research.google.com/github/tensorflow/models/blob/master/research/nst_blogpost/4_Neural_Style_Transfer_with_Eager_Execution.ipynb\"><img src=\"https://www.tensorflow.org/images/colab_logo_32px.png\" />Run in Google Colab</a>\n",
        "  </td>\n",
        "  <td>\n",
        "    <a target=\"_blank\" href=\"https://github.com/tensorflow/models/blob/master/research/nst_blogpost/4_Neural_Style_Transfer_with_Eager_Execution.ipynb\"><img src=\"https://www.tensorflow.org/images/GitHub-Mark-32px.png\" />View source on GitHub</a>\n",
        "  </td>\n",
        "</table>"
      ]
    },
    {
      "metadata": {
        "id": "aDyGj8DmXCJI"
      },
      "cell_type": "markdown",
      "source": [
        "## Problem Statement\n",
        "\n",
        "The aim of this assignment is to create a deep learning model capable of adapting an existing work to resemble the aesthetic of any art. The model should be able to analyze the artistic style of the selected art and apply similar stylistic features to a new, original artwork, creating a piece that seems as though it could have been created by the artist themselves.\n"
      ]
    },
    {
      "cell_type": "markdown",
      "source": [
        "##Approach\n",
        "Our work is based on  [Image Style Transfer Using Convolutional Neural Networks](https://www.cv-foundation.org/openaccess/content_cvpr_2016/papers/Gatys_Image_Style_Transfer_CVPR_2016_paper.pdf) by Leon Gatys, Alexander Ecker, and Matthias Bethge.\n",
        "\n",
        "We used a VGG19 model, pretrained on Imagenet dataset, for transfering style of one image to other."
      ],
      "metadata": {
        "id": "U6y1aTo9ZIfb"
      }
    },
    {
      "metadata": {
        "id": "U8ajP_u73s6m"
      },
      "cell_type": "markdown",
      "source": [
        "## Setup- Download and Resize Images\n",
        "\n",
        "Downloading images of some natural landscapes of mountains and rivers"
      ]
    },
    {
      "metadata": {
        "id": "riWE_b8k3s6o"
      },
      "cell_type": "code",
      "source": [
        "import os\n",
        "img_dir = '/tmp/nst'\n",
        "if not os.path.exists(img_dir):\n",
        "    os.makedirs(img_dir)\n",
        "style_img_dir= '/tmp/nst/style'\n",
        "if not os.path.exists(style_img_dir):\n",
        "    os.makedirs(style_img_dir)\n",
        "!wget --quiet -P /tmp/nst/style https://img.freepik.com/free-vector/watercolor-lake-scenery_23-2149159406.jpg   #style image\n",
        "!wget --quiet -P /tmp/nst/ https://img.freepik.com/free-photo/cascade-boat-clean-china-natural-rural_1417-1356.jpg\n",
        "!wget --quiet -P /tmp/nst/ https://img.freepik.com/free-photo/nature-chalal-trek-trail-sosan-india_181624-29503.jpg\n",
        "!wget --quiet -P /tmp/nst/ https://img.freepik.com/free-photo/landscape-lake-surrounded-by-mountains_23-2148215266.jpg\n",
        "!wget --quiet -P /tmp/nst/ https://img.freepik.com/free-photo/river-flowing-through-trees-mountains-scotland_181624-24054.jpg\n",
        "!wget --quiet -P /tmp/nst/ https://img.freepik.com/free-photo/shallow-stream-midst-alpine-trees-rolling-hills-mountain_181624-14513.jpg"
      ],
      "execution_count": null,
      "outputs": []
    },
    {
      "cell_type": "code",
      "source": [
        "import os\n",
        "from PIL import Image\n",
        "\n",
        "#function to resize the downloaded images to 512x512 for our style transfer function to work\n",
        "def resize_images(input_folder, output_folder, size):\n",
        "    if not os.path.exists(output_folder):\n",
        "        os.makedirs(output_folder)\n",
        "\n",
        "    for filename in os.listdir(input_folder):\n",
        "        if filename.endswith(('.jpg', '.png', '.jpeg')):  # Adjust for other image formats if needed\n",
        "            input_path = os.path.join(input_folder, filename)\n",
        "            output_path = os.path.join(output_folder, filename)\n",
        "\n",
        "            original_image = Image.open(input_path)\n",
        "            resized_image = original_image.resize(size)\n",
        "            resized_image.save(output_path)\n",
        "\n",
        "\n",
        "input_directory = \"/tmp/nst/\"\n",
        "output_directory = \"tmp/nst/resized/\"  #output folder path\n",
        "if not os.path.exists(output_directory):\n",
        "    os.makedirs(output_directory)\n",
        "target_size = (512, 512)\n",
        "\n",
        "resize_images(input_directory, output_directory, target_size)\n",
        "resize_images(style_img_dir, 'tmp/nst/resized/style_img', target_size)"
      ],
      "metadata": {
        "id": "li3nYHTQzdox"
      },
      "execution_count": null,
      "outputs": []
    },
    {
      "metadata": {
        "id": "eqxUicSPUOP6"
      },
      "cell_type": "markdown",
      "source": [
        "### Import and configure modules"
      ]
    },
    {
      "metadata": {
        "id": "sc1OLbOWhPCO"
      },
      "cell_type": "code",
      "source": [
        "import matplotlib.pyplot as plt\n",
        "import matplotlib as mpl\n",
        "mpl.rcParams['figure.figsize'] = (10,10)\n",
        "mpl.rcParams['axes.grid'] = False\n",
        "\n",
        "import numpy as np\n",
        "from PIL import Image\n",
        "import time\n",
        "import functools\n",
        "from tensorflow.keras.preprocessing import image\n",
        "import numpy as np\n",
        "import tensorflow as tf\n",
        "\n",
        "from tensorflow.keras.utils import image_dataset_from_directory as kp_image\n",
        "from tensorflow.python.keras import models\n",
        "from tensorflow.python.keras import losses\n",
        "from tensorflow.python.keras import layers\n",
        "from tensorflow.python.keras import backend as K"
      ],
      "execution_count": null,
      "outputs": []
    },
    {
      "metadata": {
        "id": "xE4Yt8nArTeR"
      },
      "cell_type": "markdown",
      "source": [
        "## Visualize the input\n",
        "The following functions are to load the image and display it"
      ]
    },
    {
      "cell_type": "code",
      "source": [
        "def load_img(path_to_img):\n",
        "    max_dim = 512\n",
        "    img = Image.open(path_to_img)\n",
        "    long = max(img.size)\n",
        "    scale = max_dim / long\n",
        "    img = img.resize((round(img.size[0] * scale), round(img.size[1] * scale)), Image.ANTIALIAS)\n",
        "\n",
        "    img = image.img_to_array(img)  # Use image.img_to_array from Keras\n",
        "\n",
        "    # We need to broadcast the image array such that it has a batch dimension\n",
        "    img = np.expand_dims(img, axis=0)\n",
        "    return img\n",
        "\n",
        "def imshow(img, title=None):\n",
        "    # Remove the batch dimension\n",
        "    out = np.squeeze(img, axis=0)\n",
        "    # Normalize for display\n",
        "    out = out.astype('uint8')\n",
        "    plt.imshow(out)\n",
        "    if title is not None:\n",
        "        plt.title(title)\n"
      ],
      "metadata": {
        "id": "uFXLN-EFd_B1"
      },
      "execution_count": null,
      "outputs": []
    },
    {
      "metadata": {
        "id": "7qMVNvEsK-_D"
      },
      "cell_type": "markdown",
      "source": [
        "## Creating required functions\n",
        "The following functions are created to allow us to load and preprocess images easily. We performed the same preprocessing process as are expected according to the VGG training process. VGG networks are trained on image with each channel normalized by `mean = [103.939, 116.779, 123.68]`and with channels BGR."
      ]
    },
    {
      "metadata": {
        "id": "hGwmTwJNmv2a"
      },
      "cell_type": "code",
      "source": [
        "def load_and_process_img(path_to_img):\n",
        "  img = load_img(path_to_img)\n",
        "  img = tf.keras.applications.vgg19.preprocess_input(img)\n",
        "  return img"
      ],
      "execution_count": null,
      "outputs": []
    },
    {
      "metadata": {
        "id": "xCgooqs6tAka"
      },
      "cell_type": "markdown",
      "source": [
        "###Inverse preprocessing\n",
        "In order to view the outputs of our optimization, we are required to perform the inverse preprocessing step. Furthermore, since our optimized image may take its values anywhere between $- \\infty$ and $\\infty$, we must clip to maintain our values from within the 0-255 range.   "
      ]
    },
    {
      "metadata": {
        "id": "mjzlKRQRs_y2"
      },
      "cell_type": "code",
      "source": [
        "def deprocess_img(processed_img):\n",
        "  x = processed_img.copy()\n",
        "  if len(x.shape) == 4:\n",
        "    x = np.squeeze(x, 0)\n",
        "  assert len(x.shape) == 3, (\"Input to deprocess image must be an image of \"\n",
        "                             \"dimension [1, height, width, channel] or [height, width, channel]\")\n",
        "  if len(x.shape) != 3:\n",
        "    raise ValueError(\"Invalid input to deprocessing image\")\n",
        "\n",
        "  # perform the inverse of the preprocessing step\n",
        "  x[:, :, 0] += 103.939\n",
        "  x[:, :, 1] += 116.779\n",
        "  x[:, :, 2] += 123.68\n",
        "  x = x[:, :, ::-1]\n",
        "\n",
        "  x = np.clip(x, 0, 255).astype('uint8')\n",
        "  return x"
      ],
      "execution_count": null,
      "outputs": []
    },
    {
      "metadata": {
        "id": "GEwZ7FlwrjoZ"
      },
      "cell_type": "markdown",
      "source": [
        "### Define content and style representations\n",
        "In neural style transfer, the layers in a pre-trained model like VGG19 help us understand both the content and style of images.\n",
        "\n",
        "### Content Representation:\n",
        "These layers help identify the content within an image. They break down the picture into different parts, recognizing objects and their details.\n",
        "\n",
        "### Style Representation:\n",
        "They also capture the image's artistic style by recognizing patterns, textures, and colors.\n",
        "\n",
        "This understanding is possible because these layers in the model are trained to recognize various aspects of images, allowing us to separate content from style.\n",
        "\n",
        "\n",
        "Specifically we’ll pull out these intermediate layers from our network:\n"
      ]
    },
    {
      "metadata": {
        "id": "N4-8eUp_Kc-j"
      },
      "cell_type": "code",
      "source": [
        "# Content layer where will pull our feature maps\n",
        "content_layers = ['block5_conv2']\n",
        "\n",
        "# Style layer we are interested in\n",
        "style_layers = ['block1_conv1',\n",
        "                'block2_conv1',\n",
        "                'block3_conv1',\n",
        "                'block4_conv1',\n",
        "                'block5_conv1'\n",
        "               ]\n",
        "\n",
        "num_content_layers = len(content_layers)\n",
        "num_style_layers = len(style_layers)"
      ],
      "execution_count": null,
      "outputs": []
    },
    {
      "metadata": {
        "id": "Jt3i3RRrJiOX"
      },
      "cell_type": "markdown",
      "source": [
        "## Build the Model\n",
        "In this case, we load [VGG19](https://keras.io/applications/#vgg19), and feed in our input tensor to the model. This will allow us to extract the feature maps (and subsequently the content and style representations) of the content, style, and generated images.\n",
        "\n",
        "We use VGG19, as suggested in the paper. In addition, since VGG19 is a relatively simple model (compared with ResNet, Inception, etc) the feature maps actually work better for style transfer."
      ]
    },
    {
      "metadata": {
        "id": "v9AnzEUU6hhx"
      },
      "cell_type": "markdown",
      "source": [
        "In order to access the intermediate layers corresponding to our style and content feature maps, we get the corresponding outputs and using the Keras [**Functional API**](https://keras.io/getting-started/functional-api-guide/), we define our model with the desired output activations.\n",
        "\n",
        "With the Functional API defining a model simply involves defining the input and output:\n",
        "\n",
        "`model = Model(inputs, outputs)`"
      ]
    },
    {
      "metadata": {
        "id": "nfec6MuMAbPx"
      },
      "cell_type": "code",
      "source": [
        "def get_model():\n",
        "  \"\"\" Creates our model with access to intermediate layers.\n",
        "\n",
        "  This function will load the VGG19 model and access the intermediate layers.\n",
        "  These layers will then be used to create a new model that will take input image\n",
        "  and return the outputs from these intermediate layers from the VGG model.\n",
        "\n",
        "  Returns:\n",
        "    returns a keras model that takes image inputs and outputs the style and\n",
        "      content intermediate layers.\n",
        "  \"\"\"\n",
        "  # Load our model. We load pretrained VGG, trained on imagenet data\n",
        "  vgg = tf.keras.applications.vgg19.VGG19(include_top=False, weights='imagenet')\n",
        "  vgg.trainable = False\n",
        "  # Get output layers corresponding to style and content layers\n",
        "  style_outputs = [vgg.get_layer(name).output for name in style_layers]\n",
        "  content_outputs = [vgg.get_layer(name).output for name in content_layers]\n",
        "  model_outputs = style_outputs + content_outputs\n",
        "  # Build model\n",
        "  return models.Model(vgg.input, model_outputs)"
      ],
      "execution_count": null,
      "outputs": []
    },
    {
      "metadata": {
        "id": "kl6eFGa7-OtV"
      },
      "cell_type": "markdown",
      "source": [
        "In the above code snippet, we have loaded our pretrained image classification network. Then we grabbed the layers of interest. Then we defined a Model by setting the model’s inputs to an image and the outputs to the outputs of the style and content layers. In other words, we created a model that will take an input image and output the content and style intermediate layers!\n"
      ]
    },
    {
      "metadata": {
        "id": "vJdYvJTZ4bdS"
      },
      "cell_type": "markdown",
      "source": [
        "## Define and create our loss functions (content and style distances)"
      ]
    },
    {
      "metadata": {
        "id": "F2Hcepii7_qh"
      },
      "cell_type": "markdown",
      "source": [
        "### Content Loss"
      ]
    },
    {
      "metadata": {
        "id": "1FvH-gwXi4nq"
      },
      "cell_type": "markdown",
      "source": [
        "The content loss is determined by measuring the difference between the feature representations of two images at specific layers in a neural network.\n",
        "\n",
        "To find this loss, we first pass both the desired content image and the image we're working on (our \"output image\") through the network. Then, we compare their intermediate feature representations at predefined layers. The content loss is computed by squaring the differences between these features at those layers and summing up these differences across all the features, i.e. by measuring their Euclidean distance. This quantifies how dissimilar the content is between the two images at those specific layers. The aim is to minimize this loss during the image generation process, making the output image resemble the original content more closely at those layers.\n",
        "\n"
      ]
    },
    {
      "metadata": {
        "id": "6KsbqPA8J9DY"
      },
      "cell_type": "markdown",
      "source": [
        "### Computing content loss\n",
        "We actually add our content losses at each desired layer. This way, each iteration when we feed our input image through the model (which in eager is simply `model(input_image)`!) all the content losses through the model is properly computed and because we are executing eagerly, all the gradients are computed."
      ]
    },
    {
      "metadata": {
        "id": "d2mf7JwRMkCd"
      },
      "cell_type": "code",
      "source": [
        "def get_content_loss(base_content, target):\n",
        "  return tf.reduce_mean(tf.square(base_content - target))"
      ],
      "execution_count": null,
      "outputs": []
    },
    {
      "metadata": {
        "id": "lGUfttK9F8d5"
      },
      "cell_type": "markdown",
      "source": [
        "## Style Loss"
      ]
    },
    {
      "metadata": {
        "id": "I6XtkGK_YGD1"
      },
      "cell_type": "markdown",
      "source": [
        "Computing style loss is a bit more involved, but follows the same principle, this time feeding our network the base input image and the style image. However, instead of comparing the raw intermediate outputs of the base input image and the style image, we instead compare the Gram matrices of the two outputs.\n",
        "\n",
        "Mathematically, we describe the style loss of the base input image, $x$, and the style image, $a$, as the distance between the style representation (the gram matrices) of these images. We describe the style representation of an image as the correlation between different filter responses given by the Gram matrix  $G^l$, where $G^l_{ij}$ is the inner product between the vectorized feature map $i$ and $j$ in layer $l$. We can see that $G^l_{ij}$ generated over the feature map for a given image represents the correlation between feature maps $i$ and $j$.\n",
        "\n",
        "To generate a style for our base input image, we perform gradient descent from the content image to transform it into an image that matches the style representation of the original image. We do so by minimizing the mean squared distance between the feature correlation map of the style image and the input image. The contribution of each layer to the total style loss is described by\n",
        "$$E_l = \\frac{1}{4N_l^2M_l^2} \\sum_{i,j}(G^l_{ij} - A^l_{ij})^2$$\n",
        "\n",
        "where $G^l_{ij}$ and $A^l_{ij}$ are the respective style representation in layer $l$ of $x$ and $a$. $N_l$ describes the number of feature maps, each of size $M_l = height * width$. Thus, the total style loss across each layer is\n",
        "$$L_{style}(a, x) = \\sum_{l \\in L} w_l E_l$$\n",
        "where we weight the contribution of each layer's loss by some factor $w_l$. In our case, we weight each layer equally ($w_l =\\frac{1}{|L|}$)"
      ]
    },
    {
      "metadata": {
        "id": "F21Hm61yLKk5"
      },
      "cell_type": "markdown",
      "source": [
        "### Computing style loss\n",
        "Again, we implement our loss as a distance metric ."
      ]
    },
    {
      "metadata": {
        "id": "N7MOqwKLLke8"
      },
      "cell_type": "code",
      "source": [
        "def gram_matrix(input_tensor):\n",
        "  # We make the image channels first\n",
        "  channels = int(input_tensor.shape[-1])\n",
        "  a = tf.reshape(input_tensor, [-1, channels])\n",
        "  n = tf.shape(a)[0]\n",
        "  gram = tf.matmul(a, a, transpose_a=True)\n",
        "  return gram / tf.cast(n, tf.float32)\n",
        "\n",
        "def get_style_loss(base_style, gram_target):\n",
        "  \"\"\"Expects two images of dimension h, w, c\"\"\"\n",
        "  # height, width, num filters of each layer\n",
        "  # We scale the loss at a given layer by the size of the feature map and the number of filters\n",
        "  height, width, channels = base_style.get_shape().as_list()\n",
        "  gram_style = gram_matrix(base_style)\n",
        "\n",
        "  return tf.reduce_mean(tf.square(gram_style - gram_target))# / (4. * (channels ** 2) * (width * height) ** 2)"
      ],
      "execution_count": null,
      "outputs": []
    },
    {
      "metadata": {
        "id": "pXIUX6czZABh"
      },
      "cell_type": "markdown",
      "source": [
        "## Apply style transfer to our images\n"
      ]
    },
    {
      "metadata": {
        "id": "y9r8Lyjb_m0u"
      },
      "cell_type": "markdown",
      "source": [
        "### Run Gradient Descent\n",
        "In this case, we used the [Adam](https://www.tensorflow.org/api_docs/python/tf/keras/optimizers/Adam)* optimizer in order to minimize our loss. We iteratively update our output image such that it minimizes our loss: we don't update the weights associated with our network, but instead we train our input image to minimize loss. In order to do this, we must know how we calculated our loss and gradients."
      ]
    },
    {
      "metadata": {
        "id": "-kGzV6LTp4CU"
      },
      "cell_type": "markdown",
      "source": [
        "We also defined a little helper function that loads our content and style image, feeds them forward through our network, which then outputs the content and style feature representations from our model."
      ]
    },
    {
      "metadata": {
        "id": "O-lj5LxgtmnI"
      },
      "cell_type": "code",
      "source": [
        "def get_feature_representations(model, content_path, style_path):\n",
        "  \"\"\"Helper function to compute our content and style feature representations.\n",
        "\n",
        "  This function will simply load and preprocess both the content and style\n",
        "  images from their path. Then it will feed them through the network to obtain\n",
        "  the outputs of the intermediate layers.\n",
        "\n",
        "  Arguments:\n",
        "    model: The model that we are using.\n",
        "    content_path: The path to the content image.\n",
        "    style_path: The path to the style image\n",
        "\n",
        "  Returns:\n",
        "    returns the style features and the content features.\n",
        "  \"\"\"\n",
        "  # Load our images in\n",
        "  content_image = load_and_process_img(content_path)\n",
        "  style_image = load_and_process_img(style_path)\n",
        "\n",
        "  # batch compute content and style features\n",
        "  style_outputs = model(style_image)\n",
        "  content_outputs = model(content_image)\n",
        "\n",
        "\n",
        "  # Get the style and content feature representations from our model\n",
        "  style_features = [style_layer[0] for style_layer in style_outputs[:num_style_layers]]\n",
        "  content_features = [content_layer[0] for content_layer in content_outputs[num_style_layers:]]\n",
        "  return style_features, content_features"
      ],
      "execution_count": null,
      "outputs": []
    },
    {
      "metadata": {
        "id": "3DopXw7-lFHa"
      },
      "cell_type": "markdown",
      "source": [
        "### Computing the loss and gradients\n",
        "Here we use [**tf.GradientTape**](https://www.tensorflow.org/programmers_guide/eager#computing_gradients) to compute the gradient. It allows us to take advantage of the automatic differentiation available by tracing operations for computing the gradient later. It records the operations during the forward pass and then is able to compute the gradient of our loss function with respect to our input image for the backwards pass."
      ]
    },
    {
      "metadata": {
        "id": "oVDhSo8iJunf"
      },
      "cell_type": "code",
      "source": [
        "def compute_loss(model, loss_weights, init_image, gram_style_features, content_features):\n",
        "  \"\"\"This function will compute the loss total loss.\n",
        "\n",
        "  Arguments:\n",
        "    model: The model that will give us access to the intermediate layers\n",
        "    loss_weights: The weights of each contribution of each loss function.\n",
        "      (style weight, content weight, and total variation weight)\n",
        "    init_image: Our initial base image. This image is what we are updating with\n",
        "      our optimization process. We apply the gradients wrt the loss we are\n",
        "      calculating to this image.\n",
        "    gram_style_features: Precomputed gram matrices corresponding to the\n",
        "      defined style layers of interest.\n",
        "    content_features: Precomputed outputs from defined content layers of\n",
        "      interest.\n",
        "\n",
        "  Returns:\n",
        "    returns the total loss, style loss, content loss, and total variational loss\n",
        "  \"\"\"\n",
        "  style_weight, content_weight = loss_weights\n",
        "\n",
        "  # Feed our init image through our model. This will give us the content and\n",
        "  # style representations at our desired layers. Since we're using eager\n",
        "  # our model is callable just like any other function!\n",
        "  model_outputs = model(init_image)\n",
        "\n",
        "  style_output_features = model_outputs[:num_style_layers]\n",
        "  content_output_features = model_outputs[num_style_layers:]\n",
        "\n",
        "  style_score = 0\n",
        "  content_score = 0\n",
        "\n",
        "  # Accumulate style losses from all layers\n",
        "  # Here, we equally weight each contribution of each loss layer\n",
        "  weight_per_style_layer = 1.0 / float(num_style_layers)\n",
        "  for target_style, comb_style in zip(gram_style_features, style_output_features):\n",
        "    style_score += weight_per_style_layer * get_style_loss(comb_style[0], target_style)\n",
        "\n",
        "  # Accumulate content losses from all layers\n",
        "  weight_per_content_layer = 1.0 / float(num_content_layers)\n",
        "  for target_content, comb_content in zip(content_features, content_output_features):\n",
        "    content_score += weight_per_content_layer* get_content_loss(comb_content[0], target_content)\n",
        "\n",
        "  style_score *= style_weight\n",
        "  content_score *= content_weight\n",
        "\n",
        "  # Get total loss\n",
        "  loss = style_score + content_score\n",
        "  return loss, style_score, content_score"
      ],
      "execution_count": null,
      "outputs": []
    },
    {
      "metadata": {
        "id": "r5XTvbP6nJQa"
      },
      "cell_type": "markdown",
      "source": [
        "Then computing the gradients is easy:"
      ]
    },
    {
      "metadata": {
        "id": "fwzYeOqOUH9_"
      },
      "cell_type": "code",
      "source": [
        "def compute_grads(cfg):\n",
        "  with tf.GradientTape() as tape:\n",
        "    all_loss = compute_loss(**cfg)\n",
        "  # Compute gradients wrt input image\n",
        "  total_loss = all_loss[0]\n",
        "  return tape.gradient(total_loss, cfg['init_image']), all_loss"
      ],
      "execution_count": null,
      "outputs": []
    },
    {
      "metadata": {
        "id": "T9yKu2PLlBIE"
      },
      "cell_type": "markdown",
      "source": [
        "### Optimization loop"
      ]
    },
    {
      "metadata": {
        "id": "pj_enNo6tACQ"
      },
      "cell_type": "code",
      "source": [
        "import IPython.display\n",
        "\n",
        "def run_style_transfer(content_path,\n",
        "                       style_path,\n",
        "                       num_iterations=1000,\n",
        "                       content_weight=1e3,\n",
        "                       style_weight=1e-2):\n",
        "  # We don't need to (or want to) train any layers of our model, so we set their\n",
        "  # trainable to false.\n",
        "  model = get_model()\n",
        "  for layer in model.layers:\n",
        "    layer.trainable = False\n",
        "\n",
        "  # Get the style and content feature representations (from our specified intermediate layers)\n",
        "  style_features, content_features = get_feature_representations(model, content_path, style_path)\n",
        "  gram_style_features = [gram_matrix(style_feature) for style_feature in style_features]\n",
        "\n",
        "  # Set initial image\n",
        "  init_image = load_and_process_img(content_path)\n",
        "  init_image = tf.Variable(init_image, dtype=tf.float32)\n",
        "  # Create our optimizer\n",
        "  opt = tf.optimizers.Adam(learning_rate=5, epsilon=1e-1)\n",
        "\n",
        "  # For displaying intermediate images\n",
        "  iter_count = 1\n",
        "\n",
        "  # Store our best result\n",
        "  best_loss, best_img = float('inf'), None\n",
        "\n",
        "  # Create a nice config\n",
        "  loss_weights = (style_weight, content_weight)\n",
        "  cfg = {\n",
        "      'model': model,\n",
        "      'loss_weights': loss_weights,\n",
        "      'init_image': init_image,\n",
        "      'gram_style_features': gram_style_features,\n",
        "      'content_features': content_features\n",
        "  }\n",
        "\n",
        "  # For displaying\n",
        "  num_rows = 2\n",
        "  num_cols = 5\n",
        "  display_interval = num_iterations/(num_rows*num_cols)\n",
        "  start_time = time.time()\n",
        "  global_start = time.time()\n",
        "\n",
        "  norm_means = np.array([103.939, 116.779, 123.68])  # mean values of BGR colors for ImageNet Dataset\n",
        "  min_vals = -norm_means\n",
        "  max_vals = 255 - norm_means\n",
        "\n",
        "  imgs = []\n",
        "  for i in range(num_iterations):\n",
        "    grads, all_loss = compute_grads(cfg)\n",
        "    loss, style_score, content_score = all_loss\n",
        "    opt.apply_gradients([(grads, init_image)])\n",
        "    clipped = tf.clip_by_value(init_image, min_vals, max_vals)\n",
        "    init_image.assign(clipped)\n",
        "    end_time = time.time()\n",
        "\n",
        "    if loss < best_loss:\n",
        "      # Update best loss and best image from total loss.\n",
        "      best_loss = loss\n",
        "      best_img = deprocess_img(init_image.numpy())\n",
        "\n",
        "\n",
        "  return best_img, best_loss"
      ],
      "execution_count": null,
      "outputs": []
    },
    {
      "metadata": {
        "id": "dCXQ9vSnQbDy"
      },
      "cell_type": "markdown",
      "source": [
        "To download the image from Colab uncomment the following code:"
      ]
    },
    {
      "metadata": {
        "id": "SSH6OpyyQn7w"
      },
      "cell_type": "code",
      "source": [
        "#from google.colab import files\n",
        "#final_img = Image.fromarray(best)\n",
        "#final_img.save('wave_turtle.png')\n",
        "#files.download('wave_turtle.png')"
      ],
      "execution_count": null,
      "outputs": []
    },
    {
      "metadata": {
        "id": "LwiZfCW0AZwt"
      },
      "cell_type": "markdown",
      "source": [
        "## Visualize outputs\n",
        "We \"deprocess\" the output image in order to remove the processing that was applied to it."
      ]
    },
    {
      "metadata": {
        "id": "lqTQN1PjulV9"
      },
      "cell_type": "code",
      "source": [
        "def show_results(best_img, content_path, style_path, show_large_final=True):\n",
        "  plt.figure(figsize=(5, 5))\n",
        "  content = load_img(content_path)\n",
        "  style = load_img(style_path)\n",
        "\n",
        "  plt.subplot(1, 2, 1)\n",
        "  imshow(content, 'Content Image')\n",
        "\n",
        "  plt.subplot(1, 2, 2)\n",
        "  imshow(style, 'Style Image')\n",
        "\n",
        "  if show_large_final:\n",
        "    plt.figure(figsize=(5, 5))\n",
        "\n",
        "    plt.imshow(best_img)\n",
        "    plt.title('Output Image')\n",
        "    plt.show()"
      ],
      "execution_count": null,
      "outputs": []
    },
    {
      "cell_type": "markdown",
      "source": [
        "##Reading and processing all image of the folder\n",
        "The following function takes the path of the content images and of the style image. It reads the image of the provided folder and perfroms style transfer on it and displays it."
      ],
      "metadata": {
        "id": "7J8-Nxucl4UZ"
      }
    },
    {
      "cell_type": "code",
      "source": [
        "import os\n",
        "def save_image(image, path):\n",
        "    image.save(path)\n",
        "\n",
        "def style_transfer_folder(content_folder, style_image, output_folder, n_iterations=1000):\n",
        "    if not os.path.exists(output_folder):\n",
        "        os.makedirs(output_folder)\n",
        "\n",
        "    content_images = os.listdir(content_folder)\n",
        "\n",
        "    for content_image in content_images:\n",
        "        content_path = os.path.join(content_folder, content_image)\n",
        "        if os.path.isfile(content_path) and content_image.lower().endswith(('.png', '.jpg', '.jpeg')):\n",
        "        # Proceed with style transfer for valid image files\n",
        "          styled_img, _ = run_style_transfer(content_path, style_image, num_iterations=n_iterations)  # Style transfer function\n",
        "\n",
        "          styled_image_name = f\"styled_{content_image}\"\n",
        "\n",
        "          # Display content, style, and styled images\n",
        "          #content_img = load_img(content_path)\n",
        "          style_img = load_img(style_image)\n",
        "          show_results(styled_img, content_path, style_image)  # Display the images\n",
        "        else:\n",
        "            print(f\"Ignoring non-image file: {content_image}\")\n",
        "\n",
        "\n",
        "    return output_folder\n"
      ],
      "metadata": {
        "id": "MbGAZsthKfgt"
      },
      "execution_count": null,
      "outputs": []
    },
    {
      "cell_type": "markdown",
      "source": [
        "###Styling all images of the content folder"
      ],
      "metadata": {
        "id": "C0eOhldEtIsh"
      }
    },
    {
      "cell_type": "code",
      "source": [
        "result_path = style_transfer_folder('/content/tmp/nst/resized', '/content/tmp/nst/resized/style_img/watercolor-lake-scenery_23-2149159406.jpg', '/content/tmp/nst/results')"
      ],
      "metadata": {
        "id": "O1R3D_ZGKnyj"
      },
      "execution_count": null,
      "outputs": []
    },
    {
      "metadata": {
        "id": "sElaeNX-4Vnc"
      },
      "cell_type": "markdown",
      "source": [
        "### What we covered:\n",
        "\n",
        "We used various loss functions and backpropagation to transform the input image. A pretrained model helped define content and style representations by its learned feature maps. This was implemented using eager execution and a custom model via the Functional API, enabling dynamic tensor work and simplifying debugging. The image was iteratively updated by optimizing loss with respect to the input image using tf.gradient."
      ]
    },
    {
      "metadata": {
        "id": "U-y02GWonqnD"
      },
      "cell_type": "markdown",
      "source": [
        "Images taken from : https://www.freepik.com/free-photo\n",
        "\n"
      ]
    },
    {
      "cell_type": "markdown",
      "source": [
        "###Limitations:\n",
        "* A pretrained model is used. A model trained on images similar to the style images would have worked better.\n",
        "* Model does not pick the features of the style image in an intelligent manner i.e. does not identify and label the color pattern, edges and other speacial features so that the same can be applied to the content image at similar places.\n",
        "\n",
        "###Potentials:\n",
        "* Gives a reasonable styling to the content images when the objects in the images are similar. For example, we used watercolor image of a scenery as style image and transferred its style to the real images of the scenery.\n",
        "* It produces results fast."
      ],
      "metadata": {
        "id": "bJL_70hYqg3O"
      }
    }
  ]
}